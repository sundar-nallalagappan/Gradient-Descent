{
 "cells": [
  {
   "cell_type": "code",
   "execution_count": null,
   "metadata": {},
   "outputs": [],
   "source": [
    "print(\"      \")"
   ]
  },
  {
   "cell_type": "code",
   "execution_count": null,
   "metadata": {},
   "outputs": [],
   "source": [
    "import numpy as np\n",
    "import time\n",
    "import math\n",
    "import matplotlib.pyplot as plt\n",
    "from sklearn.linear_model import LinearRegression"
   ]
  },
  {
   "attachments": {},
   "cell_type": "markdown",
   "metadata": {},
   "source": [
    "Size(1000sq ft)     Price(1000$) <br>\n",
    "1                       300      <br>\n",
    "2                       500\n"
   ]
  },
  {
   "attachments": {},
   "cell_type": "markdown",
   "metadata": {},
   "source": [
    "<b> Lets start the process with sample data as mentioned above (Size of the home & corresponding price) </b>"
   ]
  },
  {
   "cell_type": "code",
   "execution_count": null,
   "metadata": {},
   "outputs": [],
   "source": [
    "#Input features\n",
    "X_train = np.array([1,2])\n",
    "\n",
    "#Output Target\n",
    "y_train = np.array([300,500])\n",
    "\n",
    "print(X_train, y_train)"
   ]
  },
  {
   "attachments": {},
   "cell_type": "markdown",
   "metadata": {},
   "source": [
    "<b> Compute_Cost :: Squared Error cost function </b>\n",
    "<br>\n",
    "<br>\n",
    "Cost function to calculate the loss between the predicted and actual values"
   ]
  },
  {
   "cell_type": "code",
   "execution_count": null,
   "metadata": {},
   "outputs": [],
   "source": [
    "def compute_cost(x, y, w, b):\n",
    "\n",
    "    m    = x.shape[0] \n",
    "    cost = 0                                #Number of samples\n",
    "    y_pred = []\n",
    "\n",
    "    for i in range(0,m):                    #Loop through all data points\n",
    "        f_wb = w * x[i] + b                 #Linear function to make the prediction\n",
    "        #print(f_wb)\n",
    "        y_pred.append(f_wb)\n",
    "        cost = cost + (f_wb - y[i])**2      #Keep compounding the error by considering the difference between pred & truth\n",
    "    total_cost = cost * (1/(2*m))           #Take average of the total cost\n",
    "\n",
    "    return y_pred, total_cost"
   ]
  },
  {
   "attachments": {},
   "cell_type": "markdown",
   "metadata": {},
   "source": [
    "<b> Check the compute cost function with random w & b </b>"
   ]
  },
  {
   "cell_type": "code",
   "execution_count": null,
   "metadata": {},
   "outputs": [],
   "source": [
    "w = 200\n",
    "b = 100 \n",
    "\n",
    "Y_pred, total_cost = compute_cost(X_train, y_train, w, b)\n",
    "\n",
    "print(f\"Actual cost is {y_train}\")\n",
    "print(f\"Predictied price is {Y_pred} for the param w: {w} & b: {b}\")\n",
    "print(f\"Total loss {total_cost}\")"
   ]
  },
  {
   "attachments": {},
   "cell_type": "markdown",
   "metadata": {},
   "source": [
    "<b> If w = 200 and b = 100, then linear model predictions will be same as the ground truth. Zero error </b>"
   ]
  },
  {
   "attachments": {},
   "cell_type": "markdown",
   "metadata": {},
   "source": [
    "<b> Compute gradient function </b> <br>\n",
    "\n",
    "Caclulate the slope(gradients) for the input X and Y array and return the scalar value of W & B"
   ]
  },
  {
   "cell_type": "code",
   "execution_count": null,
   "metadata": {},
   "outputs": [],
   "source": [
    "def compute_gradients(x, y, w, b):\n",
    "    m = x.shape[0]\n",
    "    \n",
    "    dj_dw = 0\n",
    "    dj_db = 0\n",
    "\n",
    "    for i in range(0,m):\n",
    "        f_wb = w * x[i] + b\n",
    "        dj_dw_temp = (f_wb - y[i]) * x[i]\n",
    "        dj_db_temp = (f_wb - y[i])\n",
    "\n",
    "        dj_dw += dj_dw_temp\n",
    "        dj_db += dj_db_temp\n",
    "\n",
    "        #print(dj_dw, dj_db)\n",
    "    \n",
    "    dj_dw = (1/m) * dj_dw\n",
    "    dj_db = (1/m) * dj_db\n",
    "\n",
    "    return dj_dw, dj_db\n"
   ]
  },
  {
   "attachments": {},
   "cell_type": "markdown",
   "metadata": {},
   "source": [
    "Check the compute_gradient function with random w & b"
   ]
  },
  {
   "cell_type": "code",
   "execution_count": null,
   "metadata": {},
   "outputs": [],
   "source": [
    "w = 200\n",
    "b = 10\n",
    "compute_gradients(X_train, y_train, w, b)"
   ]
  },
  {
   "attachments": {},
   "cell_type": "markdown",
   "metadata": {},
   "source": [
    "<b> Gradient descent function </b> <br>\n",
    "\n",
    "* Update the value of w & b \n",
    "* update intensity depends on the learning rate alpha\n",
    "* Either the updates will keep happening until convergence(based on threshold) is reached or until iterations defined is reached\n",
    "* Keep calculateing the cost for each updated w & b which will be useful to plot the cost function\n",
    "* At the end of the function, final best w and best b will be retrieved "
   ]
  },
  {
   "cell_type": "code",
   "execution_count": null,
   "metadata": {},
   "outputs": [],
   "source": [
    "def gradient_descent(x, y, w_in, b_in, alpha=0.01, num_iter=50, conv_threshold=0.01):\n",
    "    \n",
    "    tic = time.time()\n",
    "\n",
    "    j_history = []\n",
    "    p_history = []\n",
    "    w = w_in\n",
    "    b = b_in\n",
    "\n",
    "    for i in range(num_iter):\n",
    "\n",
    "        print(f\"Iteration {i}\")\n",
    "            \n",
    "        dj_dw, dj_db = compute_gradients(x, y, w, b)\n",
    "\n",
    "        #update the parameters w & b\n",
    "        w_new = w - alpha * dj_dw\n",
    "        b_new = b - alpha * dj_db\n",
    "\n",
    "        print(f\" W updated from {w} to {w_new}\")\n",
    "        print(f\" b updated from {b} to {b_new}\")\n",
    "\n",
    "        if abs(w - w_new) < conv_threshold and abs(b - b_new) < conv_threshold:\n",
    "            print(f\"Converged\")\n",
    "            break\n",
    "        else:\n",
    "            w = w_new\n",
    "            b = b_new\n",
    "\n",
    "            Y_pred, total_cost = compute_cost(x, y, w, b)\n",
    "            j_history.append(total_cost)\n",
    "            p_history.append([w, b])\n",
    "\n",
    "        if i % 10 == 0:\n",
    "            print(f\"{num_iter - 1} done, computing cost with available parameter {w} & {b}\")\n",
    "            print(f\"Current cost is {j_history[i]}\")\n",
    "\n",
    "    toc = time.time()\n",
    "    time_taken = (toc - tic) * 1000\n",
    "    print(f\"Time taken for Gradient descent {time_taken:.4f} ms\")\n",
    "\n",
    "    return w, b, j_history, p_history, i\n"
   ]
  },
  {
   "attachments": {},
   "cell_type": "markdown",
   "metadata": {},
   "source": [
    "<b> Compute the gradients and update w & b "
   ]
  },
  {
   "cell_type": "code",
   "execution_count": null,
   "metadata": {},
   "outputs": [],
   "source": [
    "final_w, final_b, j_history, p_history, iters = gradient_descent(X_train, y_train, 1,1, 0.001, 2000)\n",
    "print(f\"Value for w is {final_w}\")\n",
    "print(f\"Value for b is {final_b}\")\n",
    "print(f\"Value for j_history is {j_history}\")\n",
    "print(f\"Value for p_history is {p_history}\")\n",
    "print(f\"Number of iterations executed {iters}\")"
   ]
  },
  {
   "attachments": {},
   "cell_type": "markdown",
   "metadata": {},
   "source": [
    "<b>\n",
    "From the defined functions, best w and b arrived are\n",
    "</b>\n",
    "<br>\n",
    "Value for w is 187.49278124908935 <br>\n",
    "Value for b is 114.19050406823874\n"
   ]
  },
  {
   "attachments": {},
   "cell_type": "markdown",
   "metadata": {},
   "source": [
    "<b> Below plots to check if cost decreases with number of iterations"
   ]
  },
  {
   "cell_type": "code",
   "execution_count": null,
   "metadata": {},
   "outputs": [],
   "source": [
    "plt.figure(figsize=(10,4))\n",
    "plt.scatter(np.arange(iters), j_history)\n",
    "plt.xlabel(\"Number of iterations\")\n",
    "plt.ylabel(\"Cost\")\n",
    "plt.show()"
   ]
  },
  {
   "attachments": {},
   "cell_type": "markdown",
   "metadata": {},
   "source": [
    "Clearly as number of iterations keep increasing, gradient descent function defined is able to calculate the better value for w & b at each time instance and cost is getting reduced gradually"
   ]
  },
  {
   "cell_type": "code",
   "execution_count": null,
   "metadata": {},
   "outputs": [],
   "source": [
    "w_values = [w for w,b in p_history]\n",
    "print(len(w_values))\n",
    "print(w_values[0:10])"
   ]
  },
  {
   "attachments": {},
   "cell_type": "markdown",
   "metadata": {},
   "source": [
    "<b> Below plot is w values aginst cost </b>"
   ]
  },
  {
   "cell_type": "code",
   "execution_count": null,
   "metadata": {},
   "outputs": [],
   "source": [
    "plt.figure(figsize=(10,4))\n",
    "plt.scatter(w_values, j_history)\n",
    "plt.xlabel(\"w-values\")\n",
    "plt.ylabel(\"cost\")\n",
    "plt.show()"
   ]
  },
  {
   "cell_type": "code",
   "execution_count": null,
   "metadata": {},
   "outputs": [],
   "source": [
    "fig, ax = plt.subplots(1,2, sharey=True, figsize=(10,4))\n",
    "ax[0].scatter(np.arange(iters), j_history)\n",
    "ax[0].set_xlabel(\"Number of iterations\")\n",
    "ax[0].set_ylabel(\"Cost function\")\n",
    "\n",
    "ax[1].scatter(w_values, j_history)\n",
    "ax[1].set_xlabel(\"Value of W parameter\")\n",
    "ax[1].set_ylabel(\"Cost function\")\n",
    "plt.show()"
   ]
  },
  {
   "attachments": {},
   "cell_type": "markdown",
   "metadata": {},
   "source": [
    "Make prediction for the sample train set"
   ]
  },
  {
   "cell_type": "code",
   "execution_count": null,
   "metadata": {},
   "outputs": [],
   "source": [
    "print(f\"X_train: {X_train}\")\n",
    "print(f\"w      : {w}\")\n",
    "print(f\"b      : {b}\")"
   ]
  },
  {
   "cell_type": "code",
   "execution_count": null,
   "metadata": {},
   "outputs": [],
   "source": [
    "y_pred, total_loss = compute_cost(X_train, y_train, final_w, final_b)\n",
    "\n",
    "print(f\"Actual ground truth ${y_train[0]}K & corresponding prediciton made is ${y_pred[0]:.4f}K\")\n",
    "print(f\"Actual ground truth ${y_train[1]}K & corresponding prediciton made is ${y_pred[1]:.4f}K\")\n",
    "print(f\"Error {total_loss}\")"
   ]
  },
  {
   "attachments": {},
   "cell_type": "markdown",
   "metadata": {},
   "source": [
    "Estimates looks closer to reality, so gradient descent function has found the good value of w & b"
   ]
  },
  {
   "cell_type": "code",
   "execution_count": null,
   "metadata": {},
   "outputs": [],
   "source": [
    "#Input features\n",
    "X_train = np.array([1,2])\n",
    "\n",
    "#Output Target\n",
    "y_train = np.array([300,500])\n",
    "\n",
    "print(X_train, y_train)"
   ]
  },
  {
   "attachments": {},
   "cell_type": "markdown",
   "metadata": {},
   "source": [
    "<b> * Solve using Sklearns LinearRegression </b>"
   ]
  },
  {
   "cell_type": "code",
   "execution_count": null,
   "metadata": {},
   "outputs": [],
   "source": [
    "lr = LinearRegression()\n",
    "lr.fit(X_train.reshape(-1,1), y_train.reshape(-1,1))\n",
    "\n",
    "#Make the predictions\n",
    "print(lr.predict(X_train.reshape(-1,1)))\n",
    "\n",
    "#print the coefficients\n",
    "print(f\"param w: {lr.coef_}, param b:{lr.intercept_}\")\n"
   ]
  },
  {
   "attachments": {},
   "cell_type": "markdown",
   "metadata": {},
   "source": [
    "* Predicted value & actual ground truth are the same\n",
    "* Identified learnable parameters w & b are the best for this sample data"
   ]
  },
  {
   "attachments": {},
   "cell_type": "markdown",
   "metadata": {},
   "source": [
    "<b> * Solve using skleans SGDRegressor </b>"
   ]
  },
  {
   "cell_type": "code",
   "execution_count": null,
   "metadata": {},
   "outputs": [],
   "source": [
    "from sklearn.linear_model import SGDRegressor\n",
    "sgdr = SGDRegressor()\n",
    "sgdr.fit(X_train.reshape(-1,1), y_train.reshape(-1,1))"
   ]
  },
  {
   "cell_type": "code",
   "execution_count": null,
   "metadata": {},
   "outputs": [],
   "source": [
    "sgdr.predict(X_train.reshape(-1,1))"
   ]
  },
  {
   "cell_type": "code",
   "execution_count": null,
   "metadata": {},
   "outputs": [],
   "source": [
    "print(sgdr)\n",
    "print(f\"number of iterations completed: {sgdr.n_iter_}, number of weight updates: {sgdr.t_}\")"
   ]
  },
  {
   "cell_type": "code",
   "execution_count": null,
   "metadata": {},
   "outputs": [],
   "source": [
    "b_norm = sgdr.intercept_\n",
    "w_norm = sgdr.coef_\n",
    "print(f\"model parameters:                   w: {w_norm}, b:{b_norm}\")"
   ]
  },
  {
   "attachments": {
    "image.png": {
     "image/png": "[encoded data removed]"
    }
   },
   "cell_type": "markdown",
   "metadata": {},
   "source": [
    "![image.png](attachment:image.png)"
   ]
  },
  {
   "attachments": {},
   "cell_type": "markdown",
   "metadata": {},
   "source": [
    "* Learnable parameters w and b identified using custom defined gradient descent function is closer to parameters found using skleanrs SGD Regressor & Linear regression mode"
   ]
  },
  {
   "attachments": {},
   "cell_type": "markdown",
   "metadata": {},
   "source": [
    "<b> * Lets try the GD for multiple input features"
   ]
  },
  {
   "attachments": {},
   "cell_type": "markdown",
   "metadata": {},
   "source": [
    "* compute_cost_vect to make predictions & to calculate the total cost \n",
    "* Vectorized implementation"
   ]
  },
  {
   "cell_type": "code",
   "execution_count": null,
   "metadata": {},
   "outputs": [],
   "source": [
    "def compute_cost_vec(x, y, w, b):\n",
    "    print('**compute_cost_vec**')\n",
    "    m    = x.shape[0] \n",
    "    cost = 0                                #Number of samples\n",
    "    y_pred = []\n",
    "\n",
    "    for i in range(m):\n",
    "        f_wb = np.dot(w, x[i]) + b          #Linear function to make the prediction\n",
    "        print(f\"Predicted value: {f_wb}\")\n",
    "        y_pred.append(f_wb)\n",
    "    \n",
    "        cost = cost + (f_wb - y[i])**2      #Keep compounding the error by considering the difference between pred & truth\n",
    "        total_cost = cost * (1/(2*m))       #Take average of the total cost\n",
    "\n",
    "    print('****************')\n",
    "    return y_pred, total_cost"
   ]
  },
  {
   "attachments": {},
   "cell_type": "markdown",
   "metadata": {},
   "source": [
    "* Verify the above function by passing random value for w, m"
   ]
  },
  {
   "cell_type": "code",
   "execution_count": null,
   "metadata": {},
   "outputs": [],
   "source": [
    "x = np.array([[10,20,30], [20, 40, 60]])\n",
    "y = [100, 200]\n",
    "w = np.array([0.1, 0.2, 0.3])\n",
    "b = 0\n",
    "\n",
    "compute_cost_vec(x, y, w, b)\n",
    "\n"
   ]
  },
  {
   "attachments": {},
   "cell_type": "markdown",
   "metadata": {},
   "source": [
    "<b> compute_gradient_vect function </b>\n",
    "* Take array of vectors as input - go through each array by array\n",
    "* Calculate the prediction and then find the slope(gradeints)"
   ]
  },
  {
   "cell_type": "code",
   "execution_count": null,
   "metadata": {},
   "outputs": [],
   "source": [
    "def compute_gradients_vect(x, y, w, b):\n",
    "    print(\"**compute_gradients_vect**\")\n",
    "    m = x.shape[0]\n",
    "    print(f\"Number of data points {m}\")\n",
    "    \n",
    "    dj_dw = 0\n",
    "    dj_db = 0\n",
    "\n",
    "    dj_dw_temp, dj_db_temp = 0,0\n",
    "\n",
    "    for i in range(0,m):\n",
    "        print(f\"Index {i}\")\n",
    "        f_wb = np.dot(w, x[i]) + b\n",
    "        \n",
    "        print(f\"f_wb {f_wb}\")\n",
    "        print(f\"y[{i}] : {y[i]} \")\n",
    "\n",
    "        dj_dw_temp = (f_wb - y[i]) * x[i]\n",
    "        dj_db_temp = (f_wb - y[i])\n",
    "\n",
    "        print(f\"dj_db_temp: {dj_db_temp}\")\n",
    "\n",
    "        dj_dw += dj_dw_temp\n",
    "        dj_db += dj_db_temp\n",
    "    \n",
    "    dj_dw = (1/m) * dj_dw\n",
    "    dj_db = (1/m) * dj_db\n",
    "    \n",
    "    print(f\"dj_dw: {dj_dw}\")\n",
    "    print(f\"dj_db: {dj_db}\")\n",
    "    print('*******************')\n",
    "\n",
    "    return dj_dw, dj_db\n"
   ]
  },
  {
   "attachments": {},
   "cell_type": "markdown",
   "metadata": {},
   "source": [
    "* Verify the above function"
   ]
  },
  {
   "cell_type": "code",
   "execution_count": null,
   "metadata": {},
   "outputs": [],
   "source": [
    "x = np.array([[10,20,30], [20, 40, 60]])\n",
    "y = [100, 200]\n",
    "w = np.array([0.1, 0.2, 0.3])\n",
    "b = 0\n",
    "\n",
    "compute_gradients_vect(x, y, w, b)"
   ]
  },
  {
   "attachments": {},
   "cell_type": "markdown",
   "metadata": {},
   "source": [
    "<b> Gradient Descent function </b>\n",
    "* Function to update the learnable parameters w & b based on the learning rate defined\n",
    "* Returns the final learnable parameters after executing the defined iterations or until the convergence threshold is satisfied"
   ]
  },
  {
   "cell_type": "code",
   "execution_count": null,
   "metadata": {},
   "outputs": [],
   "source": [
    "def gradient_descent_vect(x, y, w_in, b_in, alpha=0.01, num_iter=50, conv_threshold=0.001):\n",
    "    \n",
    "    tic = time.time()\n",
    "\n",
    "    j_history = []\n",
    "    p_history = []\n",
    "    w = w_in\n",
    "    b = b_in\n",
    "\n",
    "    for i in range(num_iter):\n",
    "\n",
    "        print(f\"Iteration {i}\")\n",
    "            \n",
    "        dj_dw, dj_db = compute_gradients_vect(x, y, w, b)\n",
    "\n",
    "        #print(dj_dw, dj_db)\n",
    "\n",
    "        #update the parameters w & b\n",
    "        w_new = w - alpha * dj_dw\n",
    "        b_new = b - alpha * dj_db\n",
    "\n",
    "        print(f\" W updated from {w} to {w_new}\")\n",
    "        print(f\" b updated from {b} to {b_new}\")\n",
    "\n",
    "        \n",
    "        \n",
    "        if (abs(w - w_new) < conv_threshold).all() & (abs(b - b_new) < conv_threshold).all():\n",
    "            print(f\"Converged\")\n",
    "            break\n",
    "        else:\n",
    "            w = w_new\n",
    "            b = b_new\n",
    "\n",
    "            Y_pred, total_cost = compute_cost_vec(x, y, w, b)\n",
    "            j_history.append(total_cost)\n",
    "            p_history.append([w, b])\n",
    "\n",
    "        if i % 10 == 0:\n",
    "            print(f\"{num_iter - 1} done, computing cost with available parameter {w} & {b}\")\n",
    "            print(f\"Current cost is {j_history[i]}\")\n",
    "\n",
    "    toc = time.time()\n",
    "    time_taken = (toc - tic) * 1000\n",
    "    print(f\"Time taken for Gradient descent {time_taken:.4f} ms\")\n",
    "\n",
    "    return w, b, j_history, p_history, i\n"
   ]
  },
  {
   "cell_type": "code",
   "execution_count": null,
   "metadata": {},
   "outputs": [],
   "source": [
    "x = np.array([[10,20,30], [20, 40, 60]])\n",
    "y = [100, 200]\n",
    "w = np.array([0.1, 0.2, 0.3])\n",
    "b = 1\n",
    "\n",
    "final_w, final_b, j_history, p_history, iters = gradient_descent_vect(x, y, w,b, 0.0001, 25)\n",
    "print(f\"Value for w is {final_w}\")\n",
    "print(f\"Value for b is {final_b}\")\n",
    "print(f\"Value for j_history is {j_history}\")\n",
    "print(f\"Value for p_history is {p_history}\")\n",
    "print(f\"Number of iterations executed {iters}\")"
   ]
  },
  {
   "attachments": {},
   "cell_type": "markdown",
   "metadata": {},
   "source": [
    "* Identified learnable paramaters values are as below <br>\n",
    "Value for w is [0.70889308 1.41778615 2.12667923] <br>\n",
    "Value for b is 1.0363791503604132 <br>\n",
    "<br>\n",
    "* Converged within 15 iterations as parameter values did change much"
   ]
  },
  {
   "attachments": {},
   "cell_type": "markdown",
   "metadata": {},
   "source": [
    "<b> Make predictions with identified parameters"
   ]
  },
  {
   "cell_type": "code",
   "execution_count": null,
   "metadata": {},
   "outputs": [],
   "source": [
    "w = [0.70889308, 1.41778615, 2.12667923]\n",
    "b = 1.0363791503604132\n",
    "\n",
    "x = np.array([[10,20,30], [20, 40, 60]])\n",
    "y = [100, 200]\n",
    "\n",
    "y_pred, total_cost = compute_cost_vec(x, y, final_w, final_b)\n",
    "\n",
    "print(f\"y_pred: {y_pred}\")\n"
   ]
  },
  {
   "cell_type": "code",
   "execution_count": null,
   "metadata": {},
   "outputs": [],
   "source": [
    "plt.figure(figsize=(10,4))\n",
    "plt.scatter(np.arange(iters), j_history)\n",
    "plt.xlabel(\"Number of iterations\")\n",
    "plt.ylabel(\"Cost\")\n",
    "plt.show()"
   ]
  },
  {
   "attachments": {},
   "cell_type": "markdown",
   "metadata": {},
   "source": [
    "* From above graph, cost clearly decreases with increase in iterations"
   ]
  },
  {
   "attachments": {},
   "cell_type": "markdown",
   "metadata": {},
   "source": [
    "<b> Lets fit the same training data with sklearns Linearregression & verify the parameters </b>"
   ]
  },
  {
   "cell_type": "code",
   "execution_count": null,
   "metadata": {},
   "outputs": [],
   "source": [
    "lr = LinearRegression()\n",
    "lr.fit(x,y)\n",
    "lr.predict(x)"
   ]
  },
  {
   "cell_type": "code",
   "execution_count": null,
   "metadata": {},
   "outputs": [],
   "source": [
    "lr.coef_, lr.intercept_"
   ]
  },
  {
   "attachments": {
    "image.png": {
     "image/png": "[encoded data removed]"
    }
   },
   "cell_type": "markdown",
   "metadata": {},
   "source": [
    "![image.png](attachment:image.png)"
   ]
  },
  {
   "attachments": {},
   "cell_type": "markdown",
   "metadata": {},
   "source": [
    "* Learnable parameters w identified using the custom Gradient descent function is closer to the parameters found using sklearn's Linear Regression "
   ]
  },
  {
   "attachments": {},
   "cell_type": "markdown",
   "metadata": {},
   "source": [
    "<b> Lets repeat the exercise with Boston housing dataset </b>"
   ]
  },
  {
   "cell_type": "code",
   "execution_count": null,
   "metadata": {},
   "outputs": [],
   "source": [
    "import pandas as pd\n",
    "import numpy as np\n",
    "from sklearn.model_selection import train_test_split\n",
    "from sklearn.preprocessing import StandardScaler\n",
    "\n",
    "from sklearn.metrics import r2_score, mean_absolute_error, mean_squared_error"
   ]
  },
  {
   "cell_type": "code",
   "execution_count": null,
   "metadata": {},
   "outputs": [],
   "source": [
    "data = pd.read_csv(\".\\HousingData.csv\")\n",
    "print(f\"Shape of data is {data.shape}\")\n",
    "data.head(4)"
   ]
  },
  {
   "cell_type": "code",
   "execution_count": null,
   "metadata": {},
   "outputs": [],
   "source": [
    "data.info()"
   ]
  },
  {
   "cell_type": "code",
   "execution_count": null,
   "metadata": {},
   "outputs": [],
   "source": [
    "data.fillna(0, inplace=True)\n",
    "data.info()"
   ]
  },
  {
   "cell_type": "code",
   "execution_count": null,
   "metadata": {},
   "outputs": [],
   "source": [
    "X = data.drop('MEDV', axis=1)\n",
    "Y = data['MEDV']\n",
    "\n",
    "print(X.shape, Y.shape)"
   ]
  },
  {
   "cell_type": "code",
   "execution_count": null,
   "metadata": {},
   "outputs": [],
   "source": [
    "X_train, X_test, y_train, y_test = train_test_split(X, Y, test_size=0.2, random_state=1702)\n",
    "print(X_train.shape, y_train.shape)\n",
    "print(X_test.shape, y_test.shape)"
   ]
  },
  {
   "cell_type": "code",
   "execution_count": null,
   "metadata": {},
   "outputs": [],
   "source": [
    "sc = StandardScaler()\n",
    "X_train_scaled = sc.fit_transform(X_train)\n",
    "X_test_scaled = sc.transform(X_test)"
   ]
  },
  {
   "cell_type": "code",
   "execution_count": null,
   "metadata": {},
   "outputs": [],
   "source": [
    "lr = LinearRegression()\n",
    "lr.fit(X_train_scaled, y_train)\n",
    "\n",
    "print(f\"Train score is {lr.score(X_train_scaled, y_train)}\")\n",
    "print(f\"Test score is {lr.score(X_test_scaled, y_test)}\")\n",
    "\n",
    "y_pred = lr.predict(X_test_scaled)\n",
    "plt.scatter(y_test,y_pred)\n",
    "plt.xlabel('Y Test')\n",
    "plt.ylabel('Predicted Y')\n",
    "\n",
    "print('MAE:', mean_absolute_error(y_test, y_pred))\n",
    "print('MSE:', mean_squared_error(y_test, y_pred))\n",
    "print('RMSE:', np.sqrt(mean_squared_error(y_test, y_pred)))"
   ]
  },
  {
   "cell_type": "code",
   "execution_count": null,
   "metadata": {},
   "outputs": [],
   "source": [
    "r2_score(y_test, y_pred)"
   ]
  },
  {
   "cell_type": "code",
   "execution_count": null,
   "metadata": {},
   "outputs": [],
   "source": [
    "coefficients = pd.DataFrame(data=lr.coef_,index=X.columns)\n",
    "coefficients.columns = ['LR-coefficients']\n",
    "coefficients"
   ]
  },
  {
   "cell_type": "code",
   "execution_count": null,
   "metadata": {},
   "outputs": [],
   "source": [
    "lr.coef_, lr.intercept_"
   ]
  },
  {
   "attachments": {},
   "cell_type": "markdown",
   "metadata": {},
   "source": [
    "* Use SKlearns SGDRegressor to train the model"
   ]
  },
  {
   "cell_type": "code",
   "execution_count": null,
   "metadata": {},
   "outputs": [],
   "source": [
    "sgdr = SGDRegressor()\n",
    "sgdr.fit(X_train_scaled, y_train)\n",
    "\n",
    "print(f\"Train accuracy: {sgdr.score(X_train_scaled, y_train)}\")\n",
    "print(f\"Test  accuracy: {sgdr.score(X_test_scaled, y_test)}\")\n",
    "\n",
    "print(f\"Coeff are: {sgdr.coef_}\")\n",
    "print(f\"Intercept: {sgdr.intercept_}\")"
   ]
  },
  {
   "cell_type": "code",
   "execution_count": null,
   "metadata": {},
   "outputs": [],
   "source": [
    "coefficients['SGDR-Coefficients'] = sgdr.coef_\n",
    "coefficients"
   ]
  },
  {
   "attachments": {},
   "cell_type": "markdown",
   "metadata": {},
   "source": [
    "<b> Lets solve the problem using the custom defined gradient descent function </b>"
   ]
  },
  {
   "cell_type": "code",
   "execution_count": null,
   "metadata": {},
   "outputs": [],
   "source": [
    "X_train"
   ]
  },
  {
   "cell_type": "code",
   "execution_count": null,
   "metadata": {},
   "outputs": [],
   "source": [
    "w = np.ones(X_train.shape[1])\n",
    "b = 1\n",
    "\n",
    "final_w, final_b, j_history, p_history, iters = gradient_descent_vect(X_train_scaled, np.array(y_train), w,b, 0.01, 1000)\n",
    "print(f\"Value for w is {final_w}\")\n",
    "print(f\"Value for b is {final_b}\")\n",
    "print(f\"Value for j_history is {j_history}\")\n",
    "print(f\"Value for p_history is {p_history}\")\n",
    "print(f\"Number of iterations executed {iters}\")"
   ]
  },
  {
   "cell_type": "code",
   "execution_count": null,
   "metadata": {},
   "outputs": [],
   "source": [
    "print(f\"Value for w is {final_w}\")\n",
    "print(f\"Value for b is {final_b}\")\n",
    "print(f\"Value for j_history is {j_history}\")\n",
    "print(f\"Least cost value is {j_history[-1]}\")\n",
    "print(f\"Value for p_history is {p_history}\")\n",
    "print(f\"Number of iterations executed {iters}\")"
   ]
  },
  {
   "cell_type": "code",
   "execution_count": null,
   "metadata": {},
   "outputs": [],
   "source": [
    "plt.figure(figsize=(10,4))\n",
    "plt.scatter(np.arange(iters), j_history)\n",
    "plt.xlabel(\"Number of iterations\")\n",
    "plt.ylabel(\"Cost\")\n",
    "plt.show()"
   ]
  },
  {
   "cell_type": "code",
   "execution_count": null,
   "metadata": {},
   "outputs": [],
   "source": [
    "coefficients['CustomGD-Coefficients'] = final_w\n",
    "coefficients"
   ]
  },
  {
   "cell_type": "code",
   "execution_count": null,
   "metadata": {},
   "outputs": [],
   "source": [
    "y_pred_tr, total_cost = compute_cost_vec(X_train_scaled, np.array(y_train), final_w, final_b)\n",
    "print(f\"total cost {total_cost}\")"
   ]
  },
  {
   "cell_type": "code",
   "execution_count": null,
   "metadata": {},
   "outputs": [],
   "source": [
    "from sklearn.metrics import r2_score\n",
    "\n",
    "print(f\"Train accuracy: {r2_score(y_train, y_pred_tr)}\")"
   ]
  },
  {
   "cell_type": "code",
   "execution_count": null,
   "metadata": {},
   "outputs": [],
   "source": [
    "y_pred, total_cost = compute_cost_vec(X_test_scaled, np.array(y_test), final_w, final_b)\n",
    "print(f\"total cost {total_cost}\")"
   ]
  },
  {
   "cell_type": "code",
   "execution_count": null,
   "metadata": {},
   "outputs": [],
   "source": [
    "from sklearn.metrics import r2_score\n",
    "\n",
    "print(f\"Test accuracy: {r2_score(y_test, y_pred)}\")"
   ]
  },
  {
   "attachments": {},
   "cell_type": "markdown",
   "metadata": {},
   "source": [
    "* Clearly learning rate plays a important role - alpha 0.01 was more appropriate for this boston dataset for the custom defined Gradient descent to give a score of 76% <br>\n",
    "\n",
    "* Coefficients & intercepts between custom GD, LR & SGDR are very close to each other <br>\n",
    "\n",
    "* Train score(70%) & test score(76%) among custom GD, LR & SGDR are very close to each other"
   ]
  },
  {
   "cell_type": "markdown",
   "metadata": {},
   "source": []
  }
 ],
 "metadata": {
  "kernelspec": {
   "display_name": "base",
   "language": "python",
   "name": "python3"
  },
  "language_info": {
   "codemirror_mode": {
    "name": "ipython",
    "version": 3
   },
   "file_extension": ".py",
   "mimetype": "text/x-python",
   "name": "python",
   "nbconvert_exporter": "python",
   "pygments_lexer": "ipython3",
   "version": "3.9.13"
  },
  "orig_nbformat": 4
 },
 "nbformat": 4,
 "nbformat_minor": 2
}
